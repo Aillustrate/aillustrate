{
 "cells": [
  {
   "cell_type": "code",
   "execution_count": 33,
   "id": "8d970eae-f587-47b9-b1d3-86aacf95fa6a",
   "metadata": {},
   "outputs": [],
   "source": [
    "from utils import update_config\n",
    "topic = \"Trainings and Education\" #e.g. Sport, Fitness, and Tourism\n",
    "concept_type = \"item\" #e.g. interior\n",
    "update_config(topic, concept_type)"
   ]
  },
  {
   "cell_type": "code",
   "execution_count": 2,
   "id": "3ff1af80-1756-458b-9860-49abe4596949",
   "metadata": {},
   "outputs": [
    {
     "name": "stderr",
     "output_type": "stream",
     "text": [
      "[12.27.2023 16:05:28 | INFO]: <module 'text_generators' from '/home/eugene/Documents/wonderslide-interior-generation/text_generators.py'> reloaded successfully\n"
     ]
    },
    {
     "name": "stdout",
     "output_type": "stream",
     "text": [
      "\n",
      "===================================BUG REPORT===================================\n",
      "Welcome to bitsandbytes. For bug reports, please submit your error trace to: https://github.com/TimDettmers/bitsandbytes/issues\n",
      "================================================================================\n",
      "CUDA SETUP: CUDA runtime path found: /home/eugene/miniconda3/envs/myenv/lib/libcudart.so\n",
      "CUDA SETUP: Highest compute capability among GPUs detected: 8.6\n",
      "CUDA SETUP: Detected CUDA version 113\n",
      "CUDA SETUP: Loading binary /home/eugene/miniconda3/envs/myenv/lib/python3.9/site-packages/bitsandbytes/libbitsandbytes_cuda113.so...\n"
     ]
    },
    {
     "name": "stderr",
     "output_type": "stream",
     "text": [
      "2023-12-27 16:05:30.006649: I tensorflow/core/util/port.cc:111] oneDNN custom operations are on. You may see slightly different numerical results due to floating-point round-off errors from different computation orders. To turn them off, set the environment variable `TF_ENABLE_ONEDNN_OPTS=0`.\n",
      "2023-12-27 16:05:30.188943: E tensorflow/compiler/xla/stream_executor/cuda/cuda_dnn.cc:9342] Unable to register cuDNN factory: Attempting to register factory for plugin cuDNN when one has already been registered\n",
      "2023-12-27 16:05:30.188965: E tensorflow/compiler/xla/stream_executor/cuda/cuda_fft.cc:609] Unable to register cuFFT factory: Attempting to register factory for plugin cuFFT when one has already been registered\n",
      "2023-12-27 16:05:30.189935: E tensorflow/compiler/xla/stream_executor/cuda/cuda_blas.cc:1518] Unable to register cuBLAS factory: Attempting to register factory for plugin cuBLAS when one has already been registered\n",
      "2023-12-27 16:05:30.283805: I tensorflow/core/platform/cpu_feature_guard.cc:182] This TensorFlow binary is optimized to use available CPU instructions in performance-critical operations.\n",
      "To enable the following instructions: AVX2 AVX512F AVX512_VNNI AVX512_BF16 FMA, in other operations, rebuild TensorFlow with the appropriate compiler flags.\n",
      "2023-12-27 16:05:31.375479: W tensorflow/compiler/tf2tensorrt/utils/py_utils.cc:38] TF-TRT Warning: Could not find TensorRT\n",
      "[12.27.2023 16:05:32 | INFO]: <module 'image_generator' from '/home/eugene/Documents/wonderslide-interior-generation/image_generator.py'> reloaded successfully\n"
     ]
    }
   ],
   "source": [
    "from utils import reload\n",
    "reload('text_generators')\n",
    "reload('image_generator')"
   ]
  },
  {
   "cell_type": "code",
   "execution_count": 2,
   "id": "4c1e2ac4-9a7e-42cc-b4ca-6512797f0acd",
   "metadata": {},
   "outputs": [
    {
     "name": "stdout",
     "output_type": "stream",
     "text": [
      "\n",
      "===================================BUG REPORT===================================\n",
      "Welcome to bitsandbytes. For bug reports, please submit your error trace to: https://github.com/TimDettmers/bitsandbytes/issues\n",
      "================================================================================\n",
      "CUDA SETUP: CUDA runtime path found: /home/eugene/miniconda3/envs/myenv/lib/libcudart.so\n",
      "CUDA SETUP: Highest compute capability among GPUs detected: 8.6\n",
      "CUDA SETUP: Detected CUDA version 113\n",
      "CUDA SETUP: Loading binary /home/eugene/miniconda3/envs/myenv/lib/python3.9/site-packages/bitsandbytes/libbitsandbytes_cuda113.so...\n"
     ]
    },
    {
     "name": "stderr",
     "output_type": "stream",
     "text": [
      "2023-12-27 16:06:03.493376: I tensorflow/core/util/port.cc:111] oneDNN custom operations are on. You may see slightly different numerical results due to floating-point round-off errors from different computation orders. To turn them off, set the environment variable `TF_ENABLE_ONEDNN_OPTS=0`.\n",
      "2023-12-27 16:06:03.527894: E tensorflow/compiler/xla/stream_executor/cuda/cuda_dnn.cc:9342] Unable to register cuDNN factory: Attempting to register factory for plugin cuDNN when one has already been registered\n",
      "2023-12-27 16:06:03.527924: E tensorflow/compiler/xla/stream_executor/cuda/cuda_fft.cc:609] Unable to register cuFFT factory: Attempting to register factory for plugin cuFFT when one has already been registered\n",
      "2023-12-27 16:06:03.527959: E tensorflow/compiler/xla/stream_executor/cuda/cuda_blas.cc:1518] Unable to register cuBLAS factory: Attempting to register factory for plugin cuBLAS when one has already been registered\n",
      "2023-12-27 16:06:03.535465: I tensorflow/core/platform/cpu_feature_guard.cc:182] This TensorFlow binary is optimized to use available CPU instructions in performance-critical operations.\n",
      "To enable the following instructions: AVX2 AVX512F AVX512_VNNI AVX512_BF16 FMA, in other operations, rebuild TensorFlow with the appropriate compiler flags.\n",
      "2023-12-27 16:06:04.238541: W tensorflow/compiler/tf2tensorrt/utils/py_utils.cc:38] TF-TRT Warning: Could not find TensorRT\n"
     ]
    },
    {
     "data": {
      "application/vnd.jupyter.widget-view+json": {
       "model_id": "b90c33db018a42d9bfeb724c6068b7d8",
       "version_major": 2,
       "version_minor": 0
      },
      "text/plain": [
       "Loading checkpoint shards:   0%|          | 0/2 [00:00<?, ?it/s]"
      ]
     },
     "metadata": {},
     "output_type": "display_data"
    },
    {
     "name": "stderr",
     "output_type": "stream",
     "text": [
      "`text_config_dict` is provided which will be used to initialize `CLIPTextConfig`. The value `text_config[\"id2label\"]` will be overriden.\n",
      "`text_config_dict` is provided which will be used to initialize `CLIPTextConfig`. The value `text_config[\"bos_token_id\"]` will be overriden.\n",
      "`text_config_dict` is provided which will be used to initialize `CLIPTextConfig`. The value `text_config[\"eos_token_id\"]` will be overriden.\n"
     ]
    },
    {
     "data": {
      "application/vnd.jupyter.widget-view+json": {
       "model_id": "77f41ead17534b02a7f3569a7674f371",
       "version_major": 2,
       "version_minor": 0
      },
      "text/plain": [
       "Loading pipeline components...:   0%|          | 0/7 [00:00<?, ?it/s]"
      ]
     },
     "metadata": {},
     "output_type": "display_data"
    },
    {
     "name": "stderr",
     "output_type": "stream",
     "text": [
      "/home/eugene/miniconda3/envs/myenv/lib/python3.9/site-packages/transformers/models/clip/feature_extraction_clip.py:28: FutureWarning: The class CLIPFeatureExtractor is deprecated and will be removed in version 5 of Transformers. Please use CLIPImageProcessor instead.\n",
      "  warnings.warn(\n"
     ]
    }
   ],
   "source": [
    "from text_generators import get_llm\n",
    "from image_generator import get_pipe\n",
    "model, tokenizer = get_llm()\n",
    "pipe = get_pipe()"
   ]
  },
  {
   "cell_type": "code",
   "execution_count": 29,
   "id": "412abd53-17f2-4638-8596-696b8199ee7c",
   "metadata": {},
   "outputs": [
    {
     "data": {
      "application/vnd.jupyter.widget-view+json": {
       "model_id": "3c83f3d738804b889d114f58ecd52a37",
       "version_major": 2,
       "version_minor": 0
      },
      "text/plain": [
       "  0%|          | 0/150 [00:00<?, ?it/s]"
      ]
     },
     "metadata": {},
     "output_type": "display_data"
    },
    {
     "name": "stderr",
     "output_type": "stream",
     "text": [
      "[12.28.2023 11:05:56 | INFO]: Concepts saved to \"concepts/Trainings and Education/item (Trainings and Education).json\"\n"
     ]
    }
   ],
   "source": [
    "from text_generators import ConceptGenerator\n",
    "cg = ConceptGenerator(model, tokenizer)\n",
    "cg.generate(save=True, rewrite=True);"
   ]
  },
  {
   "cell_type": "code",
   "execution_count": 30,
   "id": "8cb57776-35e3-424c-b3e2-39ed5064d0bb",
   "metadata": {},
   "outputs": [
    {
     "data": {
      "application/vnd.jupyter.widget-view+json": {
       "model_id": "a682616322c74c14bfe63d9b82242d15",
       "version_major": 2,
       "version_minor": 0
      },
      "text/plain": [
       "  0%|          | 0/156 [00:00<?, ?it/s]"
      ]
     },
     "metadata": {},
     "output_type": "display_data"
    },
    {
     "name": "stderr",
     "output_type": "stream",
     "text": [
      "[12.28.2023 11:23:27 | INFO]: Generated prompts saved to \"generated_prompts/Trainings and Education/item (Trainings and Education).json\"\n"
     ]
    }
   ],
   "source": [
    "from text_generators import PromptGenerator\n",
    "pg = PromptGenerator(model, tokenizer, batch_size=1)\n",
    "prompts = pg.generate(save=True, rewrite=True);"
   ]
  },
  {
   "cell_type": "code",
   "execution_count": 31,
   "id": "85471304-5089-4301-a6d7-aef7fbc00f93",
   "metadata": {},
   "outputs": [
    {
     "data": {
      "application/vnd.jupyter.widget-view+json": {
       "model_id": "ec624a7f2b81438690a735e3bc5dce36",
       "version_major": 2,
       "version_minor": 0
      },
      "text/plain": [
       "  0%|          | 0/1 [00:00<?, ?it/s]"
      ]
     },
     "metadata": {},
     "output_type": "display_data"
    },
    {
     "name": "stderr",
     "output_type": "stream",
     "text": [
      "[12.28.2023 11:23:31 | INFO]: keyboard: keyboard, wooden, smooth texture. --> keyboard: a sleek, contemporary table stands tall in the middle of a vast classroom, its smooth surface reflecting neon blue light from an illuminated projector mounted atop. A stack of colorful books sits neatly on the table, accompanied by a set of high-tech pens that change color with the touch of a finger. Behind the table.\n"
     ]
    },
    {
     "data": {
      "application/vnd.jupyter.widget-view+json": {
       "model_id": "6d99cadef2234004887c0885e9da89ba",
       "version_major": 2,
       "version_minor": 0
      },
      "text/plain": [
       "  0%|          | 0/1 [00:00<?, ?it/s]"
      ]
     },
     "metadata": {},
     "output_type": "display_data"
    },
    {
     "name": "stderr",
     "output_type": "stream",
     "text": [
      "[12.28.2023 11:23:33 | INFO]: post-it notes: post-it. --> post-it notes: colorful post -it notes scattered across the desk, surrounded by books and a wooden desk lamp.\n"
     ]
    },
    {
     "data": {
      "application/vnd.jupyter.widget-view+json": {
       "model_id": "ad66bc253ac94649aa0d6dbed57f2606",
       "version_major": 2,
       "version_minor": 0
      },
      "text/plain": [
       "  0%|          | 0/1 [00:00<?, ?it/s]"
      ]
     },
     "metadata": {},
     "output_type": "display_data"
    },
    {
     "name": "stderr",
     "output_type": "stream",
     "text": [
      "[12.28.2023 11:23:37 | INFO]: timecard: <img width=\"900\" height=\"655\" src=\"https://user-images.githubusercontent. --> timecard: a wooden clock with gold accents and a digital interface on a dark purple background, resting on top of the wooden coffee table surrounded by a stack of thick, soft books. Medium shot of the coffee table.\n"
     ]
    },
    {
     "data": {
      "application/vnd.jupyter.widget-view+json": {
       "model_id": "d8dfcac2653f4a96ab8c3a752ca02af3",
       "version_major": 2,
       "version_minor": 0
      },
      "text/plain": [
       "  0%|          | 0/1 [00:00<?, ?it/s]"
      ]
     },
     "metadata": {},
     "output_type": "display_data"
    },
    {
     "name": "stderr",
     "output_type": "stream",
     "text": [
      "[12.28.2023 11:23:40 | INFO]: library books: library books. --> library books: a grand, old-fashioned library with towering bookshelves, vintage leather chairs and a dim red light, casting long shadows on colorful tomes.Medium shot.\n"
     ]
    },
    {
     "data": {
      "application/vnd.jupyter.widget-view+json": {
       "model_id": "95e13416cd694f65b8047ea1790467a1",
       "version_major": 2,
       "version_minor": 0
      },
      "text/plain": [
       "  0%|          | 0/1 [00:00<?, ?it/s]"
      ]
     },
     "metadata": {},
     "output_type": "display_data"
    },
    {
     "name": "stderr",
     "output_type": "stream",
     "text": [
      "[12.28.2023 11:23:43 | INFO]: table: a unique, detailed, and. --> table: table: Round, white with black stripes, sits facing a large, white wall. Laptop and books scattered around.\n"
     ]
    },
    {
     "data": {
      "text/plain": [
       "{'too short': [], 'has intro': []}"
      ]
     },
     "execution_count": 31,
     "metadata": {},
     "output_type": "execute_result"
    }
   ],
   "source": [
    "from post_processor import PromptProcessor\n",
    "pp = PromptProcessor(prompt_generator=pg)\n",
    "regenerate, prompts = pp.process(save=True, auto_regenerate=True)\n",
    "regenerate"
   ]
  },
  {
   "cell_type": "code",
   "execution_count": 32,
   "id": "09462429-54db-4c07-b033-18950cc3dadc",
   "metadata": {},
   "outputs": [
    {
     "name": "stderr",
     "output_type": "stream",
     "text": [
      "[12.28.2023 11:23:43 | WARNING]: No negative prompt provided for Trainings and Education item. Using default negative prompt for item.\n"
     ]
    },
    {
     "data": {
      "application/vnd.jupyter.widget-view+json": {
       "model_id": "c892c19aa199410f977b8f3adee02b55",
       "version_major": 2,
       "version_minor": 0
      },
      "text/plain": [
       "  0%|          | 0/156 [00:00<?, ?it/s]"
      ]
     },
     "metadata": {},
     "output_type": "display_data"
    },
    {
     "name": "stderr",
     "output_type": "stream",
     "text": [
      "[12.28.2023 11:56:11 | INFO]: Saved to \"images/Trainings and Education/item\"\n"
     ]
    }
   ],
   "source": [
    "from image_generator import ImageGenerator\n",
    "ig = ImageGenerator(pipe, batch_size=1)\n",
    "ig.generate(save=True);"
   ]
  },
  {
   "cell_type": "code",
   "execution_count": null,
   "id": "c8709a74-2f4d-45c8-9ab7-433c7501322c",
   "metadata": {},
   "outputs": [],
   "source": []
  }
 ],
 "metadata": {
  "kernelspec": {
   "display_name": "fire_assistant_kernel",
   "language": "python",
   "name": "fire_assistant_kernel"
  },
  "language_info": {
   "codemirror_mode": {
    "name": "ipython",
    "version": 3
   },
   "file_extension": ".py",
   "mimetype": "text/x-python",
   "name": "python",
   "nbconvert_exporter": "python",
   "pygments_lexer": "ipython3",
   "version": "3.9.18"
  }
 },
 "nbformat": 4,
 "nbformat_minor": 5
}
